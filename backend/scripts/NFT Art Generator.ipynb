{
 "cells": [
  {
   "cell_type": "code",
   "execution_count": 1,
   "source": [
    "import warnings\n",
    "warnings.filterwarnings(\"ignore\")\n",
    "\n",
    "import generator as g\n",
    "import glob"
   ],
   "outputs": [],
   "metadata": {}
  },
  {
   "cell_type": "code",
   "execution_count": 2,
   "source": [
    "%load_ext autoreload\n",
    "%autoreload 2\n",
    "%load_ext blackcellmagic"
   ],
   "outputs": [],
   "metadata": {}
  },
  {
   "cell_type": "markdown",
   "source": [
    "# Folder Structure of Assets\n",
    "\n",
    "* assets\n",
    "    * images\n",
    "        * main\n",
    "            * 0000.png\n",
    "            * 0001.png\n",
    "            * ...\n",
    "            * 0099.png\n",
    "        * hidden\n",
    "            * hidden.png\n",
    "        * layers\n",
    "            * base\n",
    "                * name1_(count).png\n",
    "                * name2_(count).png\n",
    "            * base2\n",
    "                * name3_(count).png\n",
    "                * ...\n",
    "            * sites\n",
    "                * layer1\n",
    "                    * nameX_(prob).png\n",
    "                    * nameY_(prob).png\n",
    "                * layer2\n",
    "                    * ...\n",
    "    * metadata\n",
    "        * main\n",
    "            * 0000.json\n",
    "            * 0001.json\n",
    "            * ...\n",
    "            * 0099.json\n",
    "        * hidden\n",
    "            * hidden.json\n"
   ],
   "metadata": {}
  },
  {
   "cell_type": "markdown",
   "source": [
    "### 1. Prepare layers folder, using your preferred method to generate the base and layer images\n",
    "note:   \n",
    "1. base layers are the art layer that would be included in every image generated, where each base layer has a number of different \"attributes\" (styles)\n",
    "2. if the NFT collection generated has a total of 128 pieces, every attribute of the base layer should have a count that when totalled, equal 128\n",
    "3. this count would be included in the image file name\n",
    "3. site layers are the art layer that may or may not be included in the image based on the random generator, where each site layer has a number of different \"attributes\" (styles)\n",
    "4. for sites, instead of a count, we use the probability instead totalling to 1 and included in the image file name as well"
   ],
   "metadata": {}
  },
  {
   "cell_type": "markdown",
   "source": [
    "Note: if running from github, the collection will be 8 instead of 128 as a demo"
   ],
   "metadata": {}
  },
  {
   "cell_type": "markdown",
   "source": [
    "### 2. Setup base and site layer info"
   ],
   "metadata": {}
  },
  {
   "cell_type": "code",
   "execution_count": 3,
   "source": [
    "path_layers = \"../assets/images/layers\"\n",
    "pool_size = None\n",
    "plot = False\n",
    "\n",
    "base_attributes = {}\n",
    "attributes = {}\n",
    "attributes_prob = {}\n",
    "for folder_base in sorted(glob.glob(f\"{path_layers}/**\")):\n",
    "    folder = folder_base.split(\"/\")[-1]\n",
    "    if folder != \"sites\":\n",
    "        attrs = [f.split(\"/\")[-1].split(\".\")[0] for f in sorted(glob.glob(f\"{path_layers}/{folder}/*.png\"))]\n",
    "        base_attributes_tmp = {}\n",
    "        for attr_ in attrs:\n",
    "            attr = attr_.split(\"_\")\n",
    "            base_attributes_tmp[attr_] = int(attr[-1])\n",
    "        base_attributes[folder] = base_attributes_tmp\n",
    "    else:\n",
    "        for folder_site in sorted(glob.glob(f\"{folder_base}/**\")):\n",
    "            folder = folder_site.split(\"/\")[-1]\n",
    "            attrs = [f.split(\"/\")[-1][:-4] for f in sorted(glob.glob(f\"{folder_base}/{folder}/*.png\"))]\n",
    "            attrs_prob = [float(f.split(\"/\")[-1].split(\"_\")[-1][:-4]) for f in sorted(glob.glob(f\"{folder_base}/{folder}/*.png\"))]\n",
    "            assert sum(attrs_prob) == 1.0\n",
    "            attributes[folder] = attrs\n",
    "            attributes_prob[folder] = attrs_prob"
   ],
   "outputs": [],
   "metadata": {}
  },
  {
   "cell_type": "markdown",
   "source": [
    "### 3. Generate final distribution"
   ],
   "metadata": {}
  },
  {
   "cell_type": "code",
   "execution_count": 4,
   "source": [
    "final_dict = g.RGC_without_repetition(base_attributes, attributes, attributes_prob, pool_size=pool_size, plot=plot)"
   ],
   "outputs": [
    {
     "output_type": "stream",
     "name": "stdout",
     "text": [
      "128 initial generation choices\n",
      "128 final pool choices\n",
      "128 final pool choices w/ attributes\n"
     ]
    }
   ],
   "metadata": {}
  },
  {
   "cell_type": "markdown",
   "source": [
    "### 4. Generate final images"
   ],
   "metadata": {}
  },
  {
   "cell_type": "code",
   "execution_count": 6,
   "source": [
    "path_base = f\"{path_layers}/Background\"\n",
    "path_base2 = f\"{path_layers}/Expression\"\n",
    "path_sites = f\"{path_layers}/sites\"\n",
    "path_output = \"../assets/images/main\"\n",
    "g.generate_final_images_from_layers(final_dict, path_base, path_base2, path_sites, path_output)"
   ],
   "outputs": [],
   "metadata": {}
  },
  {
   "cell_type": "markdown",
   "source": [
    "### 5. Generate promotional GIF from subset of final images\n",
    "copy some images from main to demo folder to generate GIF"
   ],
   "metadata": {}
  },
  {
   "cell_type": "code",
   "execution_count": 7,
   "source": [
    "path_gifs = \"../assets/images/demo.gif\"\n",
    "g.generate_gif_from_images(\"../assets/images/demo\", path_gifs)"
   ],
   "outputs": [],
   "metadata": {}
  },
  {
   "cell_type": "markdown",
   "source": [
    "### 6. Upload `main` & `hidden` **`images`** to nft.storage: https://nft.storage/files/  via npx hardhat run scripts/upload_assets.js [UNCOMMENT data paths first]"
   ],
   "metadata": {}
  },
  {
   "cell_type": "markdown",
   "source": [
    "### 7. Generate Metadata\n",
    "NOTE: copy CID from uploaded images"
   ],
   "metadata": {}
  },
  {
   "cell_type": "code",
   "execution_count": 8,
   "source": [
    "### use main's CID\n",
    "g.generate_metadata(\"<INSERT_CID>\", final_dict, base_attributes, attributes, path_image=\"../assets/images/main\", path_metadata=\"../assets/metadata/main\", hidden=False)\n",
    "\n",
    "### use hidden's CID\n",
    "g.generate_metadata(\"<INSERT_CID>\", final_dict, base_attributes, attributes, path_image=\"../assets/images/hidden\", path_metadata=\"../assets/metadata/hidden\", hidden=True)"
   ],
   "outputs": [],
   "metadata": {}
  },
  {
   "cell_type": "markdown",
   "source": [
    "### 6. Upload `main` & `hidden` **`metadata`** to nft.storage: https://nft.storage/files/  via npx hardhat run scripts/upload_assets.js [UNCOMMENT data paths first]"
   ],
   "metadata": {}
  },
  {
   "cell_type": "markdown",
   "source": [
    "### 9. Get **metadata** main & hidden URL and go to 1_deploy.js"
   ],
   "metadata": {}
  },
  {
   "cell_type": "code",
   "execution_count": null,
   "source": [],
   "outputs": [],
   "metadata": {}
  },
  {
   "cell_type": "code",
   "execution_count": null,
   "source": [],
   "outputs": [],
   "metadata": {}
  }
 ],
 "metadata": {
  "orig_nbformat": 4,
  "language_info": {
   "name": "python",
   "version": "3.7.11",
   "mimetype": "text/x-python",
   "codemirror_mode": {
    "name": "ipython",
    "version": 3
   },
   "pygments_lexer": "ipython3",
   "nbconvert_exporter": "python",
   "file_extension": ".py"
  },
  "kernelspec": {
   "name": "python3",
   "display_name": "Python 3.7.11 64-bit ('ethereum': conda)"
  },
  "interpreter": {
   "hash": "957a7d8b57cbe65b4a7e2f46c452920b9a04850cf94071cce881b2e5b6665a52"
  }
 },
 "nbformat": 4,
 "nbformat_minor": 2
}